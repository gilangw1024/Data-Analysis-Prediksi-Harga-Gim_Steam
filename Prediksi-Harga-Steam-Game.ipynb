{
  "nbformat": 4,
  "nbformat_minor": 0,
  "metadata": {
    "colab": {
      "provenance": []
    },
    "kernelspec": {
      "name": "python3",
      "display_name": "Python 3"
    },
    "language_info": {
      "name": "python"
    }
  },
  "cells": [
    {
      "cell_type": "code",
      "execution_count": null,
      "metadata": {
        "id": "8IgfMdcGkAv1"
      },
      "outputs": [],
      "source": [
        "import pandas as pd\n",
        "import matplotlib.pyplot as plt\n",
        "from sklearn.linear_model import LinearRegression\n",
        "from sklearn.metrics import mean_squared_error\n",
        "from sklearn.model_selection import train_test_split"
      ]
    },
    {
      "cell_type": "markdown",
      "source": [
        "Unggah file"
      ],
      "metadata": {
        "id": "JpeiPtvZkzJH"
      }
    },
    {
      "cell_type": "code",
      "source": [
        "df = pd.read_csv('/content/steam_sales.csv')\n",
        "df.head()"
      ],
      "metadata": {
        "id": "zWuPGNA4k0kG"
      },
      "execution_count": null,
      "outputs": []
    },
    {
      "cell_type": "markdown",
      "source": [
        "data cleaning"
      ],
      "metadata": {
        "id": "u1vGQmcnnGh4"
      }
    },
    {
      "cell_type": "code",
      "source": [
        "df.info()"
      ],
      "metadata": {
        "id": "g5XP0dHPk9tK"
      },
      "execution_count": null,
      "outputs": []
    },
    {
      "cell_type": "code",
      "source": [
        "df.columns.str.lower()"
      ],
      "metadata": {
        "id": "7N_Bxpilm8kf"
      },
      "execution_count": null,
      "outputs": []
    },
    {
      "cell_type": "code",
      "source": [
        "new_col = df.columns.str.lower().str.replace(' ', '_')\n",
        "df.columns = new_col\n",
        "df.head()"
      ],
      "metadata": {
        "id": "iVAT2MyYqbrC"
      },
      "execution_count": null,
      "outputs": []
    },
    {
      "cell_type": "markdown",
      "source": [
        "cek duplikat"
      ],
      "metadata": {
        "id": "fzlY9hlx8Hes"
      }
    },
    {
      "cell_type": "code",
      "source": [
        "df.duplicated().sum()"
      ],
      "metadata": {
        "id": "yFQ6Xj_t8GRT"
      },
      "execution_count": null,
      "outputs": []
    },
    {
      "cell_type": "markdown",
      "source": [
        "drop kolom yg kurang relevan"
      ],
      "metadata": {
        "id": "4qrI_n0l8SVS"
      }
    },
    {
      "cell_type": "code",
      "source": [
        "df.drop(columns=['fetched_at'], inplace=True)"
      ],
      "metadata": {
        "id": "fNJjmAFvpv8S"
      },
      "execution_count": null,
      "outputs": []
    },
    {
      "cell_type": "code",
      "source": [
        "df.drop(columns=['game_name'], inplace=True)"
      ],
      "metadata": {
        "id": "40p0JiSFqDlR"
      },
      "execution_count": null,
      "outputs": []
    },
    {
      "cell_type": "code",
      "source": [
        "df.drop(columns=['release_date'], inplace=True)"
      ],
      "metadata": {
        "id": "lKb3p3jj2yDU"
      },
      "execution_count": null,
      "outputs": []
    },
    {
      "cell_type": "code",
      "source": [
        "df.head()"
      ],
      "metadata": {
        "id": "v0kCtKfZquMa"
      },
      "execution_count": null,
      "outputs": []
    },
    {
      "cell_type": "code",
      "source": [
        "df.info()"
      ],
      "metadata": {
        "id": "0e4G1zyyrAMM"
      },
      "execution_count": null,
      "outputs": []
    },
    {
      "cell_type": "code",
      "source": [
        "# Kolom Reviews hapus koma dan spasi, lalu konversi ke integer\n",
        "df['#reviews'] = df['#reviews'].str.replace(',', '').str.strip()\n",
        "df['#reviews'] = pd.to_numeric(df['#reviews'], errors='coerce').astype('int64')"
      ],
      "metadata": {
        "id": "op1QpU3DrZ4S"
      },
      "execution_count": null,
      "outputs": []
    },
    {
      "cell_type": "code",
      "source": [
        "df.info()"
      ],
      "metadata": {
        "id": "mST2tZttrhbh"
      },
      "execution_count": null,
      "outputs": []
    },
    {
      "cell_type": "code",
      "source": [
        "df = df.dropna(subset=['rating', '#reviews', 'discount%', \"price_(€)\", \"original_price_(€)\"])"
      ],
      "metadata": {
        "id": "gwwTnk0K1wCw"
      },
      "execution_count": null,
      "outputs": []
    },
    {
      "cell_type": "code",
      "source": [
        "df.info()"
      ],
      "metadata": {
        "id": "9sA1sx1q2DkJ"
      },
      "execution_count": null,
      "outputs": []
    },
    {
      "cell_type": "code",
      "source": [
        "missing_values = df.isnull().sum()\n",
        "print('Missing values per column:')\n",
        "print(missing_values)"
      ],
      "metadata": {
        "id": "l90uFk0F3Uww"
      },
      "execution_count": null,
      "outputs": []
    },
    {
      "cell_type": "code",
      "source": [
        "missing_values = df.isnull().sum()"
      ],
      "metadata": {
        "id": "S4WBHA3a2MoP"
      },
      "execution_count": null,
      "outputs": []
    },
    {
      "cell_type": "markdown",
      "source": [
        "# **EDA**"
      ],
      "metadata": {
        "id": "AhRSdY0uwgPF"
      }
    },
    {
      "cell_type": "markdown",
      "source": [
        "deskriptif statistik"
      ],
      "metadata": {
        "id": "8kYM6Dr0_vMN"
      }
    },
    {
      "cell_type": "code",
      "source": [
        "df.describe()"
      ],
      "metadata": {
        "id": "IJu9q8LB_xzd"
      },
      "execution_count": null,
      "outputs": []
    },
    {
      "cell_type": "markdown",
      "source": [
        "Korelasi antar fitur"
      ],
      "metadata": {
        "id": "J-6QSOFxr5aJ"
      }
    },
    {
      "cell_type": "code",
      "source": [
        "import seaborn as sns\n",
        "import matplotlib.pyplot as plt\n",
        "\n",
        "corr = df.corr(numeric_only=True)\n",
        "plt.figure(figsize=(10,6))\n",
        "sns.heatmap(corr, annot=True, cmap='coolwarm')\n",
        "plt.title('Korelasi antar fitur')\n",
        "plt.show()"
      ],
      "metadata": {
        "id": "7nrkewLtr7aC"
      },
      "execution_count": null,
      "outputs": []
    },
    {
      "cell_type": "markdown",
      "source": [
        "pairplot"
      ],
      "metadata": {
        "id": "owZD92AoARPs"
      }
    },
    {
      "cell_type": "code",
      "source": [
        "features = ['rating', '#reviews', 'discount%', 'original_price_(€)', 'price_(€)', 'windows', 'linux', 'macos']\n",
        "sns.pairplot(df[features].dropna())"
      ],
      "metadata": {
        "id": "kxby2q3eASa9"
      },
      "execution_count": null,
      "outputs": []
    },
    {
      "cell_type": "markdown",
      "source": [
        "scatter plot price dan jumlah reviews dengan log scale"
      ],
      "metadata": {
        "id": "N-s7i1FRwLCU"
      }
    },
    {
      "cell_type": "code",
      "source": [
        "plt.figure(figsize=(8, 5))\n",
        "sns.scatterplot(data=df, x='#reviews', y='price_(€)', alpha=0.6, color='darkorange')\n",
        "plt.xscale('log')\n",
        "plt.title('Scatter Plot: Jumlah Review vs Harga (€) [Log Scale]')\n",
        "plt.xlabel('Jumlah Review (log scale)')\n",
        "plt.ylabel('Harga (€)')\n",
        "plt.grid(True)\n",
        "plt.show()\n"
      ],
      "metadata": {
        "id": "uaWJy89-wN8D"
      },
      "execution_count": null,
      "outputs": []
    },
    {
      "cell_type": "markdown",
      "source": [
        "scatter plot price dan rating"
      ],
      "metadata": {
        "id": "grSs37LowkGj"
      }
    },
    {
      "cell_type": "code",
      "source": [
        "# Scatter plot: rating vs price\n",
        "plt.figure(figsize=(8, 5))\n",
        "sns.scatterplot(data=df, x='rating', y='price_(€)', alpha=0.6, color='teal')\n",
        "plt.title('Scatter Plot: Rating vs Harga (€)')\n",
        "plt.xlabel('Rating')\n",
        "plt.ylabel('Harga (€)')\n",
        "plt.grid(True)\n",
        "plt.show()"
      ],
      "metadata": {
        "id": "p_ib5Aeowr8t"
      },
      "execution_count": null,
      "outputs": []
    },
    {
      "cell_type": "markdown",
      "source": [
        "bar chart"
      ],
      "metadata": {
        "id": "Jig8gruuBi79"
      }
    },
    {
      "cell_type": "code",
      "source": [
        "# Hitung jumlah game yang support tiap platform\n",
        "platform_counts = {\n",
        "    'Windows': df['windows'].sum(),\n",
        "    'Linux': df['linux'].sum(),\n",
        "    'MacOS': df['macos'].sum()\n",
        "}\n",
        "\n",
        "# Plot bar chart\n",
        "plt.figure(figsize=(8,5))\n",
        "plt.bar(platform_counts.keys(), platform_counts.values(), color=['skyblue', 'lightgreen', 'salmon'])\n",
        "plt.title('Jumlah Game per Platform')\n",
        "plt.ylabel('Jumlah Game')\n",
        "plt.xlabel('Platform')\n",
        "plt.grid(axis='y', linestyle='--', alpha=0.7)\n",
        "plt.show()"
      ],
      "metadata": {
        "id": "lqEImEwuBj8V"
      },
      "execution_count": null,
      "outputs": []
    },
    {
      "cell_type": "markdown",
      "source": [
        "# Analisis **Predictive**"
      ],
      "metadata": {
        "id": "wjsJp8EuB4Kn"
      }
    },
    {
      "cell_type": "code",
      "source": [
        "features = ['rating', '#reviews', 'discount%', 'original_price_(€)', 'windows', 'linux', 'macos']\n",
        "target = 'price_(€)'"
      ],
      "metadata": {
        "id": "rhrxa0yurFJr"
      },
      "execution_count": null,
      "outputs": []
    },
    {
      "cell_type": "code",
      "source": [
        "X = df[features]\n",
        "y = df[target]"
      ],
      "metadata": {
        "id": "Wb48opSlyHJ0"
      },
      "execution_count": null,
      "outputs": []
    },
    {
      "cell_type": "code",
      "source": [
        "X_train, X_test, y_train, y_test = train_test_split(X, y, test_size=0.2, random_state=42)"
      ],
      "metadata": {
        "id": "YIsTOrnayZSf"
      },
      "execution_count": null,
      "outputs": []
    },
    {
      "cell_type": "code",
      "source": [
        "model = LinearRegression()\n",
        "model.fit(X_train, y_train)\n",
        "y_pred = model.predict(X_test)"
      ],
      "metadata": {
        "id": "Z_urR3sPydWu"
      },
      "execution_count": null,
      "outputs": []
    },
    {
      "cell_type": "markdown",
      "source": [
        "Evaluasi Model"
      ],
      "metadata": {
        "id": "W-o5HV8Xyeae"
      }
    },
    {
      "cell_type": "code",
      "source": [
        "from sklearn.model_selection import train_test_split\n",
        "from sklearn.linear_model import LinearRegression\n",
        "from sklearn.metrics import mean_squared_error, mean_absolute_error, mean_absolute_percentage_error"
      ],
      "metadata": {
        "id": "6ymwa6pzyfss"
      },
      "execution_count": null,
      "outputs": []
    },
    {
      "cell_type": "code",
      "source": [
        "# Evaluasi\n",
        "mse = mean_squared_error(y_test, y_pred)\n",
        "rmse = mse ** 0.5\n",
        "mae = mean_absolute_error(y_test, y_pred)\n",
        "mape = mean_absolute_percentage_error(y_test, y_pred)\n",
        "\n",
        "# Cetak hasil\n",
        "print(f\"MSE: {mse:.2f}\")\n",
        "print(f\"RMSE: {rmse:.2f}\")\n",
        "print(f\"MAE: {mae:.2f}\")\n",
        "print(f\"MAPE: {mape:.2%}\")\n"
      ],
      "metadata": {
        "id": "UHM0r7XRzOKP"
      },
      "execution_count": null,
      "outputs": []
    },
    {
      "cell_type": "code",
      "source": [
        "import matplotlib.pyplot as plt\n",
        "\n",
        "# Scatter plot: Harga Asli vs Prediksi\n",
        "plt.figure(figsize=(8, 5))\n",
        "plt.scatter(y_test, y_pred, alpha=0.6, color='mediumseagreen', edgecolors='k')\n",
        "plt.plot([y_test.min(), y_test.max()], [y_test.min(), y_test.max()], '--', color='crimson', label='Garis Ideal')\n",
        "plt.xlabel('Harga Asli (€)')\n",
        "plt.ylabel('Harga Prediksi (€)')\n",
        "plt.title('Prediksi vs Harga Asli')\n",
        "plt.legend()\n",
        "plt.grid(True)\n",
        "plt.tight_layout()\n",
        "plt.show()"
      ],
      "metadata": {
        "id": "MGeQJGtJ0Sto"
      },
      "execution_count": null,
      "outputs": []
    }
  ]
}